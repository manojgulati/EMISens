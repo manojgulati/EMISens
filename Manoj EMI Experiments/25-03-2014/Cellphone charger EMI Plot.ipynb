{
 "metadata": {
  "name": "Cellphone charger EMI Plot"
 },
 "nbformat": 3,
 "nbformat_minor": 0,
 "worksheets": [
  {
   "cells": [
    {
     "cell_type": "code",
     "collapsed": false,
     "input": [
      "import pandas as pd\n",
      "import numpy as np\n",
      "import matplotlib\n",
      "print matplotlib.get_backend()\n",
      "matplotlib.use('qt4agg')\n",
      "print matplotlib.get_backend()\n",
      "import matplotlib.pyplot as plt"
     ],
     "language": "python",
     "metadata": {},
     "outputs": [
      {
       "output_type": "stream",
       "stream": "stdout",
       "text": [
        "Qt4Agg\n",
        "Qt4Agg\n"
       ]
      }
     ],
     "prompt_number": 2
    },
    {
     "cell_type": "code",
     "collapsed": false,
     "input": [
      "# Load BGN data from all CSVs in to dataframes\n",
      "df0 = pd.read_csv('phone charger\\Trace_0000.csv', skiprows=44, names=['Frequency','Noise Amplitude'])\n",
      "df2 = pd.read_csv('phone charger\\Trace_0002.csv', skiprows=44, names=['Frequency','Noise Amplitude'])\n",
      "df4 = pd.read_csv('phone charger\\Trace_0004.csv', skiprows=44, names=['Frequency','Noise Amplitude'])\n",
      "df6 = pd.read_csv('phone charger\\Trace_0006.csv', skiprows=44, names=['Frequency','Noise Amplitude'])\n",
      "df8 = pd.read_csv('phone charger\\Trace_0008.csv', skiprows=44, names=['Frequency','Noise Amplitude'])\n",
      "df10 = pd.read_csv('phone charger\\Trace_0010.csv', skiprows=44, names=['Frequency','Noise Amplitude'])\n",
      "df12 = pd.read_csv('phone charger\\Trace_0012.csv', skiprows=44, names=['Frequency','Noise Amplitude'])\n",
      "df14 = pd.read_csv('phone charger\\Trace_0014.csv', skiprows=44, names=['Frequency','Noise Amplitude'])\n",
      "# Load Phone charger Noise data from all CSVs in to dataframes\n",
      "df1 = pd.read_csv('phone charger\\Trace_0001.csv', skiprows=44, names=['Frequency','Charger Noise Amplitude'])\n",
      "df3 = pd.read_csv('phone charger\\Trace_0003.csv', skiprows=44, names=['Frequency','Charger Noise Amplitude'])\n",
      "df5 = pd.read_csv('phone charger\\Trace_0005.csv', skiprows=44, names=['Frequency','Charger Noise Amplitude'])\n",
      "df7 = pd.read_csv('phone charger\\Trace_0007.csv', skiprows=44, names=['Frequency','Charger Noise Amplitude'])\n",
      "df9 = pd.read_csv('phone charger\\Trace_0009.csv', skiprows=44, names=['Frequency','Charger Noise Amplitude'])\n",
      "df11 = pd.read_csv('phone charger\\Trace_0011.csv', skiprows=44, names=['Frequency','Charger Noise Amplitude'])\n",
      "df13 = pd.read_csv('phone charger\\Trace_0013.csv', skiprows=44, names=['Frequency','Charger Noise Amplitude'])\n",
      "df15 = pd.read_csv('phone charger\\Trace_0015.csv', skiprows=44, names=['Frequency','Charger Noise Amplitude'])\n"
     ],
     "language": "python",
     "metadata": {},
     "outputs": [],
     "prompt_number": 5
    },
    {
     "cell_type": "code",
     "collapsed": false,
     "input": [
      "#print df0[:10]\n",
      "#print df2[:10]\n",
      "#print df4[:10]\n",
      "#print df6[:10]"
     ],
     "language": "python",
     "metadata": {},
     "outputs": [],
     "prompt_number": 6
    },
    {
     "cell_type": "code",
     "collapsed": false,
     "input": [
      "# Concatenate all the BGN traces in to single dataframes using concat command with axis = 0 to connect along vertical axis.\n",
      "df = pd.concat([df0,df2,df4,df6,df8,df10,df12,df14],axis=0)\n",
      "# Concatenate all the phone charger noise traces in to single dataframes using concat command with axis = 0 to connect along vertical axis.\n",
      "df_phone = pd.concat([df1,df3,df5,df7,df9,df11,df13,df15],axis=0)"
     ],
     "language": "python",
     "metadata": {},
     "outputs": [],
     "prompt_number": 7
    },
    {
     "cell_type": "code",
     "collapsed": false,
     "input": [
      "df['Frequency'] = df['Frequency']/1000.;\n",
      "df_phone['Frequency'] = df_phone['Frequency']/1000.;"
     ],
     "language": "python",
     "metadata": {},
     "outputs": [],
     "prompt_number": 8
    },
    {
     "cell_type": "code",
     "collapsed": false,
     "input": [
      "ax = plt.gca();\n",
      "ax.grid(True);\n",
      "plt.plot(df['Frequency'], df['Noise Amplitude'])\n",
      "plt.plot(df_phone['Frequency'], df_phone['Charger Noise Amplitude'])\n",
      "plt.xlabel(\"Frequency ( in Khz)\");\n",
      "plt.ylabel(\"Amplitude ( in dBm)\");\n",
      "#plt.ylim((-140, -90))\n",
      "\n",
      "plt.legend(['BGN Noise','Phone Charger Noise']);\n",
      "mng = plt.get_current_fig_manager()\n",
      "mng.window.showMaximized()\n",
      "plt.savefig(\"BGN+Charger Noise Wide Spectrum.png\");\n",
      "\n",
      "plt.show(); "
     ],
     "language": "python",
     "metadata": {},
     "outputs": [],
     "prompt_number": 11
    },
    {
     "cell_type": "code",
     "collapsed": false,
     "input": [],
     "language": "python",
     "metadata": {},
     "outputs": []
    }
   ],
   "metadata": {}
  }
 ]
}